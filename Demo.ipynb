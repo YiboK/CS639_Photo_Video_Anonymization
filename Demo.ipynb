{
  "nbformat": 4,
  "nbformat_minor": 0,
  "metadata": {
    "colab": {
      "provenance": [],
      "authorship_tag": "ABX9TyMvhnamDV68ZeTk2E9D4eCR",
      "include_colab_link": true
    },
    "kernelspec": {
      "name": "python3",
      "display_name": "Python 3"
    },
    "language_info": {
      "name": "python"
    },
    "gpuClass": "standard"
  },
  "cells": [
    {
      "cell_type": "markdown",
      "metadata": {
        "id": "view-in-github",
        "colab_type": "text"
      },
      "source": [
        "<a href=\"https://colab.research.google.com/github/YiboK/CS639_Photo_Video_Anonymization/blob/main/Demo.ipynb\" target=\"_parent\"><img src=\"https://colab.research.google.com/assets/colab-badge.svg\" alt=\"Open In Colab\"/></a>"
      ]
    },
    {
      "cell_type": "code",
      "source": [
        "!git clone https://github.com/YiboK/CS639_Photo_Video_Anonymization"
      ],
      "metadata": {
        "id": "WAw8i2AKD5Fx",
        "colab": {
          "base_uri": "https://localhost:8080/"
        },
        "outputId": "040593cc-271c-4517-c590-d59165b77d47"
      },
      "execution_count": 1,
      "outputs": [
        {
          "output_type": "stream",
          "name": "stdout",
          "text": [
            "Cloning into 'CS639_Photo_Video_Anonymization'...\n",
            "remote: Enumerating objects: 259, done.\u001b[K\n",
            "remote: Counting objects: 100% (259/259), done.\u001b[K\n",
            "remote: Compressing objects: 100% (194/194), done.\u001b[K\n",
            "remote: Total 259 (delta 93), reused 202 (delta 58), pack-reused 0\u001b[K\n",
            "Receiving objects: 100% (259/259), 27.24 MiB | 18.72 MiB/s, done.\n",
            "Resolving deltas: 100% (93/93), done.\n"
          ]
        }
      ]
    },
    {
      "cell_type": "code",
      "source": [
        "%cd CS639_Photo_Video_Anonymization/"
      ],
      "metadata": {
        "id": "VVnFVyop65tV",
        "colab": {
          "base_uri": "https://localhost:8080/"
        },
        "outputId": "b5eba72b-c917-4bcb-c085-ce4027057d18"
      },
      "execution_count": 2,
      "outputs": [
        {
          "output_type": "stream",
          "name": "stdout",
          "text": [
            "/content/CS639_Photo_Video_Anonymization\n"
          ]
        }
      ]
    },
    {
      "cell_type": "code",
      "source": [
        "%pip install thop #install required package. This may be different for different computer"
      ],
      "metadata": {
        "id": "WpZ-1c3SNjgl",
        "colab": {
          "base_uri": "https://localhost:8080/"
        },
        "outputId": "c38a389b-b01a-49ff-f701-7cc965c44bd5"
      },
      "execution_count": 3,
      "outputs": [
        {
          "output_type": "stream",
          "name": "stdout",
          "text": [
            "Looking in indexes: https://pypi.org/simple, https://us-python.pkg.dev/colab-wheels/public/simple/\n",
            "Collecting thop\n",
            "  Downloading thop-0.1.1.post2209072238-py3-none-any.whl (15 kB)\n",
            "Requirement already satisfied: torch in /usr/local/lib/python3.8/dist-packages (from thop) (1.13.0+cu116)\n",
            "Requirement already satisfied: typing-extensions in /usr/local/lib/python3.8/dist-packages (from torch->thop) (4.4.0)\n",
            "Installing collected packages: thop\n",
            "Successfully installed thop-0.1.1.post2209072238\n"
          ]
        }
      ]
    },
    {
      "cell_type": "code",
      "source": [
        "# --source followed by the path to image\n",
        "!python face_blur/blur_face.py --img 800 --source data --save-img --blur-level 3"
      ],
      "metadata": {
        "id": "9tjTLmjtNXKh",
        "colab": {
          "base_uri": "https://localhost:8080/"
        },
        "outputId": "3696bd63-ccda-4036-f055-e8bf83f0e4b8"
      },
      "execution_count": 4,
      "outputs": [
        {
          "output_type": "stream",
          "name": "stdout",
          "text": [
            "Fusing layers... \n",
            "/usr/local/lib/python3.8/dist-packages/torch/functional.py:504: UserWarning: torch.meshgrid: in an upcoming release, it will be required to pass the indexing argument. (Triggered internally at ../aten/src/ATen/native/TensorShape.cpp:3190.)\n",
            "  return _VF.meshgrid(tensors, **kwargs)  # type: ignore[attr-defined]\n",
            "loading images data\n",
            "image 1/2 /content/CS639_Photo_Video_Anonymization/data/original.jpg: 6 faces\n",
            "image 2/2 /content/CS639_Photo_Video_Anonymization/data/street.jpg: 2 faces\n"
          ]
        }
      ]
    },
    {
      "cell_type": "code",
      "source": [
        "!python plate_blur/blur_plate.py --img 800 --source runs/face_blur/exp --save-img --blur-level 3"
      ],
      "metadata": {
        "colab": {
          "base_uri": "https://localhost:8080/"
        },
        "id": "rJYWvbfWB_1F",
        "outputId": "23244179-8736-46d3-9c10-9bebe471deea"
      },
      "execution_count": 6,
      "outputs": [
        {
          "output_type": "stream",
          "name": "stdout",
          "text": [
            "Fusing layers... \n",
            "Model summary: 157 layers, 7012822 parameters, 0 gradients, 15.8 GFLOPs\n",
            "loading images runs/face_blur/exp\n",
            "image 1/2 /content/CS639_Photo_Video_Anonymization/runs/face_blur/exp/original.jpg: 448x640 (no detections), 315.5ms\n",
            "image 2/2 /content/CS639_Photo_Video_Anonymization/runs/face_blur/exp/street.jpg: 448x640 1 license plate, 326.9ms\n",
            "Speed: 2.3ms pre-process, 321.2ms inference, 1.2ms NMS per image at shape (1, 3, 640, 640)\n",
            "Results saved to \u001b[1mplate_blur/../runs/plate_blur/exp2\u001b[0m\n"
          ]
        }
      ]
    }
  ]
}