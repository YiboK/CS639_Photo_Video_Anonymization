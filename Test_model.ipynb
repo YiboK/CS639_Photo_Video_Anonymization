{
  "nbformat": 4,
  "nbformat_minor": 0,
  "metadata": {
    "colab": {
      "provenance": [],
      "authorship_tag": "ABX9TyMZ0APhCAr+TzxT2ovMZefw"
    },
    "kernelspec": {
      "name": "python3",
      "display_name": "Python 3"
    },
    "language_info": {
      "name": "python"
    },
    "gpuClass": "standard"
  },
  "cells": [
    {
      "cell_type": "code",
      "source": [
        "!git clone https://github.com/YiboK/CS639_Photo_Video_Anonymization"
      ],
      "metadata": {
        "id": "WAw8i2AKD5Fx"
      },
      "execution_count": null,
      "outputs": []
    },
    {
      "cell_type": "code",
      "source": [
        "%cd CS639_Photo_Video_Anonymization/"
      ],
      "metadata": {
        "id": "VVnFVyop65tV"
      },
      "execution_count": null,
      "outputs": []
    },
    {
      "cell_type": "code",
      "source": [
        "%pip install thop #install required package. This may be different for different computer"
      ],
      "metadata": {
        "id": "WpZ-1c3SNjgl"
      },
      "execution_count": null,
      "outputs": []
    },
    {
      "cell_type": "code",
      "source": [
        "# --source followed by the path to image\n",
        "!python blur_face.py --img 800 --source data --save-img --blur-level 3"
      ],
      "metadata": {
        "id": "9tjTLmjtNXKh"
      },
      "execution_count": null,
      "outputs": []
    }
  ]
}