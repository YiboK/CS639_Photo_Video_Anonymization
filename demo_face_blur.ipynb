{
  "cells": [
    {
      "cell_type": "code",
      "execution_count": null,
      "metadata": {
        "id": "WAw8i2AKD5Fx"
      },
      "outputs": [],
      "source": [
        "!git clone https://github.com/YiboK/CS639_Photo_Video_Anonymization"
      ]
    },
    {
      "cell_type": "code",
      "execution_count": null,
      "metadata": {
        "id": "VVnFVyop65tV"
      },
      "outputs": [],
      "source": [
        "%cd CS639_Photo_Video_Anonymization/"
      ]
    },
    {
      "cell_type": "code",
      "execution_count": null,
      "metadata": {
        "id": "WpZ-1c3SNjgl"
      },
      "outputs": [],
      "source": [
        "%pip install thop #install required package. This may be different for different computer"
      ]
    },
    {
      "cell_type": "code",
      "execution_count": null,
      "metadata": {
        "id": "9tjTLmjtNXKh"
      },
      "outputs": [],
      "source": [
        "# --source followed by the path to image\n",
        "!python blur_face.py --img 800 --source data --save-img --blur-level 3"
      ]
    }
  ],
  "metadata": {
    "colab": {
      "authorship_tag": "ABX9TyMZ0APhCAr+TzxT2ovMZefw",
      "provenance": []
    },
    "gpuClass": "standard",
    "kernelspec": {
      "display_name": "pytorch",
      "language": "python",
      "name": "python3"
    },
    "language_info": {
      "name": "python",
      "version": "3.10.4 | packaged by conda-forge | (main, Mar 24 2022, 17:39:37) [Clang 12.0.1 ]"
    },
    "vscode": {
      "interpreter": {
        "hash": "d0f7f8caee62a26fc09f9d26dd9e8aa1b1877f0e6a61532c6553deeaae437130"
      }
    }
  },
  "nbformat": 4,
  "nbformat_minor": 0
}
